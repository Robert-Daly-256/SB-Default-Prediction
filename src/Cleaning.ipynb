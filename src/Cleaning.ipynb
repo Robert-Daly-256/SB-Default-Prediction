{
 "cells": [
  {
   "cell_type": "markdown",
   "metadata": {},
   "source": [
    "# Predicting Default of SBA 7(a) Loans Using Historical Data Disclosed Under FOIA\n",
    "\n",
    "The Small Business Administration (SBA) was founded in 1953 to help small businesses obtain loans. Rather than lending to small businesses directly, the SBA improves a business's odds of getting a loan by limiting the exposure of approved lenders though guaranteeing a portion of the loan. This allows small businesses that might not have otherwise been able to secure funding to recieve approval. \n",
    "\n",
    "The SBA records loan applications and their current status for hundreds of thousands of small businesses. As a government agency, under the Freedom of Information Act (FOIA), the SBA is obligated to disclose certain information about loan applications such as the name of the company a loan was given to, the amount of the loan, the duration of the loan, and the initial intrest rate. The status of *past loans* is also reported. However, the status of *current loans* is exempt from reporting under FOIA section 4, since such information reveals significant details about the current financial status of a company. Therefore, while data for the status of current SBA loans is not generally available, it is possible examine historical data for loans in an attempt to predict whether current loans will default or not.\n",
    "\n",
    "This paper develops a machine learning model to predict the end status of a SBA supported loan, which is classified as either paid-in-full or defaulted, where defaulted indicates that the full value of the loan was not paid back by the small business."
   ]
  },
  {
   "cell_type": "markdown",
   "metadata": {},
   "source": [
    "# Sourcing The Data\n",
    "\n",
    "The SBA provides two types of assisted loans to small businesses. The SBA 504 loan program provides long-term, fixed-rate financing for fixed assets like real estate or equipment. These loans are typically offered to expanding businesses. In contrast, the SBA 7(a) loan program offers more flexibility, allowing businesses to use the funds for a wide range of purposes, including working capital, purchasing inventory, and refinancing debt, with loans coming directly from participating lenders.\n",
    "\n",
    "The FOIA Data sets for both loans offerings are listed on the SBAs website at [https://data.sba.gov/dataset/7-a-504-foia]. In this paper we consider the 7(a) loan offering since the dataset is more comprehensive, and in the hopes that shorter term length of the loans allows us to develop a more accurate model; i.e., we assume that it is more difficult to predict if a loan will default in the next 20 years that it is to predict if it will default in the next 2 years\n",
    "\n",
    "The 7(a) FOIA datasets covering loan information from 2000-2009, 2010-2020, and 2020-present (all updated in June 20th, 2024) can be read in and saved as a CSV file as follows:"
   ]
  },
  {
   "cell_type": "code",
   "execution_count": 1,
   "metadata": {},
   "outputs": [
    {
     "name": "stderr",
     "output_type": "stream",
     "text": [
      "/var/folders/x6/xstr5ys90n7ffprv8p5rknqr0000gn/T/ipykernel_27704/3700477919.py:14: DtypeWarning: Columns (13,22,26) have mixed types. Specify dtype option on import or set low_memory=False.\n",
      "  df1 = pd.read_csv(\"../data/SBA_7a_2000-2009.csv\")\n",
      "/var/folders/x6/xstr5ys90n7ffprv8p5rknqr0000gn/T/ipykernel_27704/3700477919.py:15: DtypeWarning: Columns (13,33) have mixed types. Specify dtype option on import or set low_memory=False.\n",
      "  df2 = pd.read_csv(\"../data/SBA_7a_2010-2020.csv\")\n",
      "/var/folders/x6/xstr5ys90n7ffprv8p5rknqr0000gn/T/ipykernel_27704/3700477919.py:16: DtypeWarning: Columns (36) have mixed types. Specify dtype option on import or set low_memory=False.\n",
      "  df3 = pd.read_csv(\"../data/SBA_7a_2020-present.csv\")\n"
     ]
    }
   ],
   "source": [
    "import pandas as pd\n",
    "import numpy as np\n",
    "import sklearn as sk\n",
    "import matplotlib.pyplot as plt\n",
    "\n",
    "# This code sources the data, but as it is subject to unstable changes, we load the data \n",
    "# df1 = pd.read_csv(\"https://data.sba.gov/dataset/0ff8e8e9-b967-4f4e-987c-6ac78c575087/resource/186eb176-b53e-4cbe-ab93-e5c4fb50197d/download/foia-7afy2000-fy2009-asof-240630.csv\")\n",
    "# df1.to_csv(\"../data/SBA_7a_2000-2009.csv\", index=False)\n",
    "# df2 = pd.read_csv(\"https://data.sba.gov/dataset/0ff8e8e9-b967-4f4e-987c-6ac78c575087/resource/5afaa348-03b9-4374-942d-3c7881b4fc54/download/foia-7afy2010-fy2019-asof-240630.csv\")\n",
    "# df2.to_csv(\"../data/SBA_7a_2010-2020.csv\", index=False)\n",
    "# df3 = pd.read_csv(\"https://data.sba.gov/dataset/0ff8e8e9-b967-4f4e-987c-6ac78c575087/resource/883f1ad6-b683-4c30-ba4a-76b20a08bdd4/download/foia-7afy2020-present-asof-240630.csv\")\n",
    "# df3.to_csv(\"../data/SBA_7a_2020-present.csv\", index=False)\n",
    "\n",
    "df1 = pd.read_csv(\"../data/SBA_7a_2000-2009.csv\")\n",
    "df2 = pd.read_csv(\"../data/SBA_7a_2010-2020.csv\")\n",
    "df3 = pd.read_csv(\"../data/SBA_7a_2020-present.csv\")"
   ]
  },
  {
   "cell_type": "markdown",
   "metadata": {},
   "source": [
    "### Observation from Priliminary EDA and Target Column Summary Statistics\n",
    "\n",
    "The combined dataset is fairly large, spanning more than a million data points with about 41 columns. The columns 'catalog_month' and 'catalog_year' in the 2000-2009 data are not supported by 2010-present data. As a results, they will be dropped before merging the dataframes. In addition, the first column in each dataframe is 'AsOfDate\", and corresponds to 06/30/2024 for all values. Lastly, it is observed that the majority of loans from the 2000-2009 dataset are completed -- i.e., not marked as exempt -- where the more recent loans are not completed and therefore marked as exempt. This makes sense since older loans are more likely to have been paid back in full or defaulted on."
   ]
  },
  {
   "cell_type": "markdown",
   "metadata": {},
   "source": []
  },
  {
   "cell_type": "markdown",
   "metadata": {},
   "source": [
    "# Dataset Cleaning and Feature Engineering\n",
    "\n",
    "### 1. Merge The Datasets\n",
    "\n",
    "To merge both datasets, assign consistent column names to df1, df2, df3. Drop the AsOfDate and Program from each dataframe since this information will not be usefull to a machine learning model (It is identical for all values) and can be recovered by recalling that the dataset is from 06/30/2024 and the 7a loan program. Then, merge dropping duplicates to ensure that there is no data repetition. "
   ]
  },
  {
   "cell_type": "code",
   "execution_count": 2,
   "metadata": {},
   "outputs": [
    {
     "name": "stdout",
     "output_type": "stream",
     "text": [
      "We observe the following about the merged dataset:\n",
      "Total Rows   : 1503934\n",
      "Total Columns: 39\n",
      "Column Names : ['BorrName', 'BorrStreet', 'BorrCity', 'BorrState', 'BorrZip', 'BankName', 'BankFDICNumber', 'BankNCUANumber', 'BankStreet', 'BankCity', 'BankState', 'BankZip', 'GrossApproval', 'SBAGuaranteedApproval', 'ApprovalDate', 'ApprovalFiscalYear', 'FirstDisbursementDate', 'DeliveryMethod', 'Subprogram', 'InitialInterestRate', 'FixedOrVariableInterestInd', 'TermInMonths', 'NaicsCode', 'NaicsDescription', 'FranchiseCode', 'FranchiseName', 'ProjectCounty', 'ProjectState', 'SBADistrictOffice', 'CongressionalDistrict', 'BusinessType', 'BusinessAge', 'LoanStatus', 'PaidInFullDate', 'ChargeOffDate', 'GrossChargeOffAmount', 'RevolverStatus', 'JobsSupported', 'SoldSecMrktInd']\n",
      "\n",
      "\n",
      "LoanStatus\n",
      "PIF       858771\n",
      "EXEMPT    268653\n",
      "CHGOFF    178777\n",
      "CANCLD    173013\n",
      "COMMIT     24720\n",
      "Name: count, dtype: int64\n"
     ]
    }
   ],
   "source": [
    "column_names = list(df2.columns)\n",
    "df1.columns = column_names\n",
    "df2.columns = column_names\n",
    "df3.columns = column_names\n",
    "\n",
    "df1 = df1.drop([\"AsOfDate\", \"Program\"], axis=1)\n",
    "df2 = df2.drop([\"AsOfDate\", \"Program\"], axis=1)\n",
    "df3 = df3.drop([\"AsOfDate\", \"Program\"], axis=1)\n",
    "df = pd.concat([df1, df2, df3]).drop_duplicates()\n",
    "\n",
    "print(\"We observe the following about the merged dataset:\")\n",
    "print(\"Total Rows   : \" + str(df.shape[0]))\n",
    "print(\"Total Columns: \" + str(df.shape[1]))\n",
    "print(\"Column Names : \" + str(list(df.columns)))\n",
    "\n",
    "\n",
    "print(\"\\n\")\n",
    "print(df[\"LoanStatus\"].value_counts())\n",
    "\n",
    "df.to_csv(\"../data/merged.csv\", index=False)"
   ]
  },
  {
   "cell_type": "markdown",
   "metadata": {},
   "source": [
    "### 2.) Drop Hyperspecific Columns\n",
    "\n",
    "Second, drop the hyperspecific data columns. In this context, these columns are hyperspecific location oriented information, like street and business names. The dataset is not large enough to draw conclusions off of a particular street name, and so we instead use the city to denote this information. "
   ]
  },
  {
   "cell_type": "code",
   "execution_count": 3,
   "metadata": {},
   "outputs": [
    {
     "name": "stdout",
     "output_type": "stream",
     "text": [
      "BorrStreet\n",
      "TBD                            117\n",
      "MAIN STREET                     68\n",
      "Main Street                     54\n",
      "358 PINE STREET                 44\n",
      "TO BE DETERMINED                43\n",
      "                              ... \n",
      "9200 Westheimer Ste 1111 Rd      1\n",
      "187 10th Street                  1\n",
      "807 E Aultman St                 1\n",
      "805 ORPAX ST                     1\n",
      "2471 HERRING WOODS TRL           1\n",
      "Name: count, Length: 1311562, dtype: int64\n",
      "\n",
      "\n",
      "BankStreet\n",
      "101 N Philips Ave          92129\n",
      "100 N Tryon St, Ste 170    86169\n",
      "1111 Polaris Pkwy          81066\n",
      "17 S High St.              76312\n",
      "425 Walnut St              67601\n",
      "                           ...  \n",
      "5309 Highgate Dr               1\n",
      "4343 E Sunset Rd               1\n",
      "5238 W Seneca St               1\n",
      "4415 71st St, Ste 11           1\n",
      "200 Capitol St                 1\n",
      "Name: count, Length: 5162, dtype: int64\n"
     ]
    }
   ],
   "source": [
    "print(df['BorrStreet'].value_counts())\n",
    "print(\"\\n\")\n",
    "print(df['BankStreet'].value_counts())\n",
    "\n",
    "df = df.drop([\"BorrStreet\", \"BorrName\", \"BankStreet\", \"BankFDICNumber\", \"BankNCUANumber\", \"FranchiseName\", \"NaicsDescription\"], axis=1)"
   ]
  },
  {
   "cell_type": "markdown",
   "metadata": {},
   "source": [
    "### 3.) Drop Columns Which Will Be Unavailable To The Deployed Model\n",
    "\n",
    "Drop columns that will be unavailable to the deployed model. For example, in this data set, the columns \"PaidInFullDate\", \"ChargeOffDate\", and \"GrossChargeOffAmount\" are usefull pieces of information. However, they directly correspond to PIF, CHGOFF, and CHGOFF respectivly. In other words, the end result of what we are trying to predict (PIF or CHGOFF) must be known ahead of time for these columns to exist. The same is true for SoldSecMrktInd, which indicates if the loan was sold, which frequently indicates default and can only be known on a time series basis and the date of the entry for this indicator is known. Therefore, they cannot be included in the training or testing data without leaking information, and must be removed."
   ]
  },
  {
   "cell_type": "code",
   "execution_count": 4,
   "metadata": {},
   "outputs": [],
   "source": [
    "df['FinalStatusDate'] = df['PaidInFullDate'].fillna(df['ChargeOffDate']) # Convert 'PaidInFullDate' and 'ChargeOffDate' to a single value, indicating when the loan was completed\n",
    "df = df.drop([\"GrossChargeOffAmount\", 'PaidInFullDate', 'ChargeOffDate', 'SoldSecMrktInd'], axis=1) # Drop unrealistic columns"
   ]
  },
  {
   "cell_type": "markdown",
   "metadata": {},
   "source": [
    "### 4.) Generate and Generalize Industry Classification\n",
    "\n",
    "Lastly, there are columns for which generalization is useful. The \"NaicsCode\" (North American Industry Classification System Code) provides a hyperspecific labeling of the type of business that the company applying of the loan conducts. For example \"NaicsCode\" 561621 refers to Security Systems Services (except Locksmiths) as opposed to \"NaicsCode\" 561612 which refers to Security Guards and Patrol Services. While this hyperspecific information is very useful, more general information about the industry type -- e.g., manufacturing vs service vs merchandising -- would also be useful to be able to help train the model on more general attributes as well. "
   ]
  },
  {
   "cell_type": "code",
   "execution_count": 5,
   "metadata": {},
   "outputs": [
    {
     "name": "stdout",
     "output_type": "stream",
     "text": [
      "Agriculture\n",
      "0    1487359\n",
      "1      16575\n",
      "Name: count, dtype: int64\n",
      "Mining\n",
      "0    1500624\n",
      "1       3310\n",
      "Name: count, dtype: int64\n",
      "Utilities\n",
      "0    1502520\n",
      "1       1414\n",
      "Name: count, dtype: int64\n",
      "Construction\n",
      "0    1352124\n",
      "1     151810\n",
      "Name: count, dtype: int64\n",
      "Manufacturing\n",
      "0    1443435\n",
      "1      60499\n",
      "Name: count, dtype: int64\n",
      "Manufacturing\n",
      "0    1443435\n",
      "1      60499\n",
      "Name: count, dtype: int64\n",
      "Manufacturing\n",
      "0    1443435\n",
      "1      60499\n",
      "Name: count, dtype: int64\n",
      "Wholesale\n",
      "0    1423917\n",
      "1      80017\n",
      "Name: count, dtype: int64\n",
      "Retail\n",
      "0    1433408\n",
      "1      70526\n",
      "Name: count, dtype: int64\n",
      "Retail\n",
      "0    1433408\n",
      "1      70526\n",
      "Name: count, dtype: int64\n",
      "Transportation\n",
      "0    1498103\n",
      "1       5831\n",
      "Name: count, dtype: int64\n",
      "Transportation\n",
      "0    1498103\n",
      "1       5831\n",
      "Name: count, dtype: int64\n",
      "Information\n",
      "0    1483839\n",
      "1      20095\n",
      "Name: count, dtype: int64\n",
      "Finance\n",
      "0    1479164\n",
      "1      24770\n",
      "Name: count, dtype: int64\n",
      "Real Estate, Rental and Leasing\n",
      "0    1470573\n",
      "1      33361\n",
      "Name: count, dtype: int64\n",
      "Professional Services\n",
      "0    1360697\n",
      "1     143237\n",
      "Name: count, dtype: int64\n",
      "Management\n",
      "0    1503254\n",
      "1        680\n",
      "Name: count, dtype: int64\n",
      "Administrative, Waste Management and Cleaning Services\n",
      "0    1429124\n",
      "1      74810\n",
      "Name: count, dtype: int64\n",
      "Educational Services\n",
      "0    1485010\n",
      "1      18924\n",
      "Name: count, dtype: int64\n",
      "Health Care and Social Assistance\n",
      "0    1378237\n",
      "1     125697\n",
      "Name: count, dtype: int64\n",
      "Arts, Entertainment, and Recreation\n",
      "0    1464961\n",
      "1      38973\n",
      "Name: count, dtype: int64\n",
      "Accommodation and Food Services\n",
      "0    1317134\n",
      "1     186800\n",
      "Name: count, dtype: int64\n",
      "Other Services\n",
      "0    1359598\n",
      "1     144336\n",
      "Name: count, dtype: int64\n",
      "Public Administration\n",
      "0    1503646\n",
      "1        288\n",
      "Name: count, dtype: int64\n"
     ]
    }
   ],
   "source": [
    "# The following naics_mappings are obtained from \n",
    "# The US census at https://www.census.gov/naics/?58967?yearbck=2022\n",
    "# and expressed in condensed form\n",
    "naics_mapping = {\n",
    "        \"11\": \"Agriculture\",\n",
    "        \"21\": \"Mining\",\n",
    "        \"22\": \"Utilities\",\n",
    "        \"23\": \"Construction\",\n",
    "        \"31\": \"Manufacturing\",\n",
    "        \"32\": \"Manufacturing\",\n",
    "        \"33\": \"Manufacturing\",\n",
    "        \"42\": \"Wholesale\",\n",
    "        \"44\": \"Retail\",\n",
    "        \"45\": \"Retail\",\n",
    "        \"48\": \"Transportation\",\n",
    "        \"49\": \"Transportation\",\n",
    "        \"51\": \"Information\",\n",
    "        \"52\": \"Finance\",\n",
    "        \"53\": \"Real Estate, Rental and Leasing\",\n",
    "        \"54\": \"Professional Services\",\n",
    "        \"55\": \"Management\",\n",
    "        \"56\": \"Administrative, Waste Management and Cleaning Services\",\n",
    "        \"61\": \"Educational Services\",\n",
    "        \"62\": \"Health Care and Social Assistance\",\n",
    "        \"71\": \"Arts, Entertainment, and Recreation\",\n",
    "        \"72\": \"Accommodation and Food Services\",\n",
    "        \"81\": \"Other Services\",\n",
    "        \"92\": \"Public Administration\",\n",
    "    }\n",
    "    \n",
    "for code_prefix, business_type in naics_mapping.items():\n",
    "    df[business_type] = df[\"NaicsCode\"].astype(str).str.startswith(code_prefix).astype(int)\n",
    "\n",
    "for code_prefix, business_type in naics_mapping.items():\n",
    "    print(df[business_type].value_counts())\n",
    "\n",
    "df['FranchiseCode'] = df['FranchiseCode'].notna().astype(int)"
   ]
  },
  {
   "cell_type": "markdown",
   "metadata": {},
   "source": [
    "### 5.) Convert Date Formats to Numerical Values\n",
    "\n",
    "If we inspect the types of a number of date formats such as FirstDisbursementDate, we see that due to excel formatting, some dates are denoted as XX/XX/XX and others as integers which use the excel formatting for dates (number of hours since 1899-12-30). To ensure that this data is displayed correctly, we convert it all from the excel format to the correct XX/XX/XXXX format, and then convert this format to a numerical value which will be easier to train a model on, namely the number of days since Jan 1st 2000."
   ]
  },
  {
   "cell_type": "code",
   "execution_count": 6,
   "metadata": {},
   "outputs": [
    {
     "name": "stdout",
     "output_type": "stream",
     "text": [
      "ApprovalDate\n",
      "03/11/2010    1489\n",
      "07/28/2015    1341\n",
      "01/30/2004    1242\n",
      "10/01/2010    1067\n",
      "09/27/2023     998\n",
      "              ... \n",
      "12/02/2018       1\n",
      "08/02/2015       1\n",
      "01/17/2015       1\n",
      "02/23/2019       1\n",
      "04/19/2015       1\n",
      "Name: count, Length: 8022, dtype: int64\n",
      "FirstDisbursementDate\n",
      "03/31/2006    7268\n",
      "04/30/2007    7195\n",
      "08/31/2007    7017\n",
      "10/31/2007    6928\n",
      "05/31/2007    6909\n",
      "              ... \n",
      "09/07/2006       1\n",
      "01/18/2006       1\n",
      "05/04/2006       1\n",
      "02/08/2020       1\n",
      "10/18/2024       1\n",
      "Name: count, Length: 6394, dtype: int64\n",
      "FinalStatusDate\n",
      "05/31/2005    46950\n",
      "07/31/2005     8833\n",
      "08/31/2012     8150\n",
      "03/31/2022     5544\n",
      "02/28/2022     5421\n",
      "              ...  \n",
      "07/09/2004        1\n",
      "09/28/2003        1\n",
      "05/23/2005        1\n",
      "04/06/2001        1\n",
      "11/12/2022        1\n",
      "Name: count, Length: 6001, dtype: int64\n",
      "ApprovalDate\n",
      "3722    1489\n",
      "5687    1341\n",
      "1490    1242\n",
      "3926    1067\n",
      "8670     998\n",
      "        ... \n",
      "6910       1\n",
      "5692       1\n",
      "5495       1\n",
      "6993       1\n",
      "5587       1\n",
      "Name: count, Length: 8022, dtype: int64\n",
      "FirstDisbursementDate\n",
      "2281.0    7268\n",
      "2676.0    7195\n",
      "2799.0    7017\n",
      "2860.0    6928\n",
      "2707.0    6909\n",
      "          ... \n",
      "2441.0       1\n",
      "2209.0       1\n",
      "2315.0       1\n",
      "7343.0       1\n",
      "9057.0       1\n",
      "Name: count, Length: 6394, dtype: int64\n",
      "FinalStatusDate\n",
      "1977.0    46950\n",
      "2038.0     8833\n",
      "4626.0     8150\n",
      "8125.0     5544\n",
      "8094.0     5421\n",
      "          ...  \n",
      "1651.0        1\n",
      "1366.0        1\n",
      "1969.0        1\n",
      "461.0         1\n",
      "8351.0        1\n",
      "Name: count, Length: 6001, dtype: int64\n"
     ]
    }
   ],
   "source": [
    "from datetime import datetime, timedelta\n",
    "\n",
    "def excel_dates_to_datetime(df, column_name):\n",
    "    base_date = datetime(1899, 12, 30)\n",
    "    mask = df[column_name].apply(lambda x: isinstance(x, int))\n",
    "    df.loc[mask, column_name] = df.loc[mask, column_name].apply(lambda x: base_date + timedelta(days=x))\n",
    "\n",
    "\n",
    "excel_dates_to_datetime(df, \"ApprovalDate\")\n",
    "df[\"ApprovalDate\"] = pd.to_datetime(df[\"ApprovalDate\"], errors='coerce').dt.strftime('%m/%d/%Y')\n",
    "\n",
    "excel_dates_to_datetime(df, \"FirstDisbursementDate\")\n",
    "df[\"FirstDisbursementDate\"] = pd.to_datetime(df[\"FirstDisbursementDate\"], errors='coerce').dt.strftime('%m/%d/%Y')\n",
    "\n",
    "excel_dates_to_datetime(df, \"FinalStatusDate\")\n",
    "df[\"FinalStatusDate\"] = pd.to_datetime(df[\"FinalStatusDate\"], errors='coerce').dt.strftime('%m/%d/%Y')\n",
    "\n",
    "\n",
    "\n",
    "print(df[\"ApprovalDate\"].value_counts())\n",
    "print(df[\"FirstDisbursementDate\"].value_counts())\n",
    "print(df[\"FinalStatusDate\"].value_counts())\n",
    "\n",
    "reference_date = datetime(2000, 1, 1)\n",
    "\n",
    "df[\"ApprovalDate\"] = pd.to_datetime(df[\"ApprovalDate\"], format='%m/%d/%Y', errors='coerce').apply(\n",
    "    lambda x: (x - reference_date).days if not pd.isnull(x) else None\n",
    ")\n",
    "\n",
    "df[\"FirstDisbursementDate\"] = pd.to_datetime(df[\"FirstDisbursementDate\"], format='%m/%d/%Y', errors='coerce').apply(\n",
    "    lambda x: (x - reference_date).days if not pd.isnull(x) else None\n",
    ")\n",
    "\n",
    "df[\"FinalStatusDate\"] = pd.to_datetime(df[\"FinalStatusDate\"], format='%m/%d/%Y', errors='coerce').apply(\n",
    "    lambda x: (x - reference_date).days if not pd.isnull(x) else None\n",
    ")\n",
    "\n",
    "print(df[\"ApprovalDate\"].value_counts())\n",
    "print(df[\"FirstDisbursementDate\"].value_counts())\n",
    "print(df[\"FinalStatusDate\"].value_counts())"
   ]
  },
  {
   "cell_type": "markdown",
   "metadata": {},
   "source": [
    "### 6.) Convert Invalid Rows\n",
    "\n",
    "Three columns are currently giving erros due to mixed types. These are converted as follows:"
   ]
  },
  {
   "cell_type": "code",
   "execution_count": 7,
   "metadata": {},
   "outputs": [
    {
     "name": "stdout",
     "output_type": "stream",
     "text": [
      "(1503934, 49)\n",
      "BusinessAge\n",
      "Unknown                                   1123493\n",
      "Existing or more than 2 years old          197329\n",
      "Startup, Loan Funds will Open Business      63390\n",
      "New Business or 2 years or less             46222\n",
      "Change of Ownership                         38568\n",
      "Unanswered                                  22462\n",
      "Existing, 5 or more years                    7183\n",
      "New, Less than 1 Year old                    2383\n",
      "Less than 3 years old but at least 2         1168\n",
      "Less than 4 years old but at least 3          928\n",
      "Less than 5 years old but at least 4          808\n",
      "Name: count, dtype: int64\n"
     ]
    }
   ],
   "source": [
    "# First, drop the small number of incomplete rows:\n",
    "print(df.shape)\n",
    "df['BusinessAge'] = df['BusinessAge'].fillna('Unknown')\n",
    "print(df['BusinessAge'].value_counts())"
   ]
  },
  {
   "cell_type": "markdown",
   "metadata": {},
   "source": [
    "### 7.) Drop Irrelevant Rows\n",
    "\n",
    "Drop rows for companies who did not discharge or pay back their loans in full. These are the rows that the model will be deployed on or are otherwise irrelevant (i.e., applied but did not follow through, or pending approval)."
   ]
  },
  {
   "cell_type": "code",
   "execution_count": 8,
   "metadata": {},
   "outputs": [
    {
     "data": {
      "image/png": "[encoded data removed]",
      "text/plain": [
       "<Figure size 800x1000 with 1 Axes>"
      ]
     },
     "metadata": {},
     "output_type": "display_data"
    },
    {
     "name": "stdout",
     "output_type": "stream",
     "text": [
      "LoanStatus\n",
      "PIF       858771\n",
      "EXEMPT    268653\n",
      "CHGOFF    178777\n",
      "CANCLD    173013\n",
      "COMMIT     24720\n",
      "Name: count, dtype: int64\n"
     ]
    }
   ],
   "source": [
    "loan_status_counts = df[\"LoanStatus\"].value_counts()\n",
    "\n",
    "plt.figure(figsize=(8, 10))\n",
    "plt.pie(loan_status_counts, labels=loan_status_counts.index, autopct='%1.1f%%', startangle=90, colors=plt.cm.Paired.colors)\n",
    "plt.title('Loan Status Distribution')\n",
    "plt.axis('equal')\n",
    "plt.show()\n",
    "\n",
    "print(loan_status_counts)\n",
    "\n",
    "df_cleaned = df[df[\"LoanStatus\"].isin([\"PIF\", \"CHGOFF\"])]\n"
   ]
  },
  {
   "cell_type": "markdown",
   "metadata": {},
   "source": [
    "### 8.) For Columns with Very Few Missing Values, Drop the Corresponding Rows\n",
    "\n",
    "With a large dataset of nearly a million rows, for columns with less than 500 missing values, we can drop the corresponding rows without siginficant data loss, taking into account that the missing values likely come from data inputting errors."
   ]
  },
  {
   "cell_type": "code",
   "execution_count": 9,
   "metadata": {},
   "outputs": [
    {
     "name": "stdout",
     "output_type": "stream",
     "text": [
      "BorrCity\n",
      "BankCity\n",
      "BankState\n",
      "FinalStatusDate\n"
     ]
    }
   ],
   "source": [
    "for column in df_cleaned.columns:\n",
    "    na_values = df_cleaned[df_cleaned[column].isna()]\n",
    "    if na_values.shape[0] <= 500 and na_values.shape[0] > 0:\n",
    "        print(column)\n",
    "        df_cleaned = df_cleaned.drop(na_values.index)"
   ]
  },
  {
   "cell_type": "markdown",
   "metadata": {},
   "source": [
    "### 9.) Indicating Missing Values for Ordinal and Continuous Data\n",
    "\n",
    "For the continous columns 'FirstDisbursementDate' and 'InitialInterestRate', there are at least 100,000 missing values. To ensure that the presence of data is denoted we record with a 1 in 'FirstDisbursementDateUnknown' and 'InitialInterestRateUnknown' if these values are not known to the model at the time of training"
   ]
  },
  {
   "cell_type": "code",
   "execution_count": 10,
   "metadata": {},
   "outputs": [],
   "source": [
    "df_cleaned[\"FirstDisbursementDate\"] = df_cleaned[\"FirstDisbursementDate\"].fillna(\n",
    "    df_cleaned[\"ApprovalDate\"] + 14\n",
    ")\n",
    "\n",
    "df_cleaned[\"InitialInterestRate\"] = df_cleaned[\"InitialInterestRate\"].apply(\n",
    "    lambda x: (\n",
    "        \"Unknown\" if pd.isnull(x) else\n",
    "        \"Very Low\" if x <= 2.75 else\n",
    "        \"Low\" if x <= 5.5 else\n",
    "        \"Below Average\" if x <= 6.0 else\n",
    "        \"Above Average\" if x <= 7.4 else\n",
    "        \"High\" if x <= 9.1 else \n",
    "        \"Very High\"\n",
    "    )\n",
    ")\n",
    "\n",
    "df_cleaned[\"CongressionalDistrict\"] = df_cleaned[\"CongressionalDistrict\"].fillna(-1)\n",
    "df_cleaned['FixedOrVariableInterestInd'] = (df_cleaned['FixedOrVariableInterestInd'] == 'F').astype(int)"
   ]
  },
  {
   "cell_type": "markdown",
   "metadata": {},
   "source": [
    "### 10.) Compute Percent of Loan Assured by SBA\n",
    "\n",
    "The SBA and the banks which they partner with likely have criteria for how much of the loan the SBA must assure on the basis of how likely it is to default. The Loan Assured/Loan Size can therefore be treated as one metric of the confidence interval that the loan will be paid in full.\n"
   ]
  },
  {
   "cell_type": "code",
   "execution_count": 11,
   "metadata": {},
   "outputs": [],
   "source": [
    "df_cleaned[\"LoanAssuranceRatio\"] = df_cleaned[\"SBAGuaranteedApproval\"] / df_cleaned[\"GrossApproval\"]"
   ]
  },
  {
   "cell_type": "markdown",
   "metadata": {},
   "source": [
    "### 11.) Reduce Features\n",
    "\n",
    "Training the model on reduced features, on the basis of computational infeasibility (1000 bank names gives 1000 columns, for example) or that the information is no particularly useful (e.g., congressional district)"
   ]
  },
  {
   "cell_type": "code",
   "execution_count": 12,
   "metadata": {},
   "outputs": [],
   "source": [
    "df_cleaned = df_cleaned.drop(columns=[\"BorrCity\", \"BorrZip\", \"BankName\", \"BankCity\", \"BankZip\", \n",
    "                      \"NaicsCode\", \"ProjectCounty\", \"BankState\", \"SBADistrictOffice\",\n",
    "                      \"CongressionalDistrict\"], axis=1)"
   ]
  },
  {
   "cell_type": "code",
   "execution_count": 13,
   "metadata": {},
   "outputs": [],
   "source": [
    "df_cleaned['LoanStatus'] = df_cleaned['LoanStatus'].apply(\n",
    "    lambda x: 1 if x == 'PIF' else 0\n",
    ")\n",
    "\n",
    "df_cleaned.to_csv(\"../data/clean.csv\", index=False)"
   ]
  }
 ],
 "metadata": {
  "kernelspec": {
   "display_name": "data",
   "language": "python",
   "name": "python3"
  },
  "language_info": {
   "codemirror_mode": {
    "name": "ipython",
    "version": 3
   },
   "file_extension": ".py",
   "mimetype": "text/x-python",
   "name": "python",
   "nbconvert_exporter": "python",
   "pygments_lexer": "ipython3",
   "version": "3.12.5"
  }
 },
 "nbformat": 4,
 "nbformat_minor": 4
}
