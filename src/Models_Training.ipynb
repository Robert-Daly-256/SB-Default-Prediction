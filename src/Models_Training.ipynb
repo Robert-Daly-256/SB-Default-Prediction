{
 "cells": [
  {
   "cell_type": "code",
   "execution_count": 116,
   "metadata": {},
   "outputs": [],
   "source": [
    "import pandas as pd\n",
    "import numpy as np\n",
    "import matplotlib.pyplot as plt\n",
    "import pickle\n",
    "\n",
    "df = pd.read_csv('../data/clean.csv')"
   ]
  },
  {
   "cell_type": "code",
   "execution_count": 117,
   "metadata": {},
   "outputs": [],
   "source": [
    "df['FinalStatusYear'] = df['FinalStatusDate'].transform(lambda x: int(x / 365))"
   ]
  },
  {
   "cell_type": "markdown",
   "metadata": {},
   "source": [
    "## Standard Preprocessor Encoding"
   ]
  },
  {
   "cell_type": "markdown",
   "metadata": {},
   "source": [
    "- It may appear that some categorical columns like BusinessAge or InitialInterestRate should be classified as either ordinal or categorical, however these columns are correctly classified as categorical since they do not admit a clear ordering. In particular, BusinessAge  has classifications like \"Transfer of Ownership\" as well as indicators of age which can be well ordered. The same is true for InitialIntrestRate, which has a significant number of classifications as \"Unknown\"."
   ]
  },
  {
   "cell_type": "code",
   "execution_count": 118,
   "metadata": {},
   "outputs": [],
   "source": [
    "continuous_columns = ['GrossApproval', 'SBAGuaranteedApproval', 'LoanAssuranceRatio', 'JobsSupported', 'TermInMonths', \n",
    "                      'ApprovalDate', 'FirstDisbursementDate']\n",
    "categorical_columns = ['DeliveryMethod', 'Subprogram', \n",
    "                       'InitialInterestRate', 'FixedOrVariableInterestInd', 'FranchiseCode',\n",
    "                       'ProjectState', 'CongressionalDistrict', 'BusinessType', \n",
    "                       'BusinessAge', 'RevolverStatus', 'Agriculture', 'Mining', \n",
    "                       'Utilities', 'Construction', 'Manufacturing', 'Wholesale', 'Retail', 'Transportation', \n",
    "                       'Information', 'Finance', 'Real Estate, Rental and Leasing', 'Professional Services', \n",
    "                       'Management', 'Administrative, Waste Management and Cleaning Services', 'Educational Services', \n",
    "                       'Health Care and Social Assistance', 'Arts, Entertainment, and Recreation', \n",
    "                       'Accommodation and Food Services', 'Other Services', 'Public Administration']\n",
    "ordinal_columns = ['ApprovalFiscalYear']\n",
    "ordinal_values = [np.sort(list(df['ApprovalFiscalYear'].unique()))]"
   ]
  },
  {
   "cell_type": "code",
   "execution_count": 119,
   "metadata": {},
   "outputs": [],
   "source": [
    "onehot_columns = ['BorrState', 'DeliveryMethod', 'Subprogram', 'InitialInterestRate', 'ProjectState', \n",
    "                  'BusinessType', 'BusinessAge']\n",
    "\n",
    "encoded_columns = ['FranchiseCode', 'RevolverStatus', 'Agriculture', 'Mining', \n",
    "                       'Utilities', 'Construction', 'Manufacturing', 'Wholesale', 'Retail', 'Transportation', \n",
    "                       'Information', 'Finance', 'Real Estate, Rental and Leasing', 'Professional Services', \n",
    "                       'Management', 'Administrative, Waste Management and Cleaning Services', 'Educational Services', \n",
    "                       'Health Care and Social Assistance', 'Arts, Entertainment, and Recreation', \n",
    "                       'Accommodation and Food Services', 'Other Services', 'Public Administration', 'FixedOrVariableInterestInd']\n",
    "\n",
    "# Identify target column\n",
    "target_column = 'LoanStatus'\n",
    "time_series_column = 'FinalStatusDate'\n",
    "stratifier_column = 'FinalStatusYear'"
   ]
  },
  {
   "cell_type": "code",
   "execution_count": 120,
   "metadata": {},
   "outputs": [],
   "source": [
    "total_columns = onehot_columns + encoded_columns + [target_column] + [time_series_column] + continuous_columns + ordinal_columns + [stratifier_column]\n",
    "\n",
    "for column in total_columns:\n",
    "    if column not in df.columns:\n",
    "        print(column)\n",
    "        LookupError(column)\n",
    "for column in df.columns:\n",
    "    if column not in total_columns:\n",
    "        print(column)\n",
    "        LookupError(column)"
   ]
  },
  {
   "cell_type": "code",
   "execution_count": 121,
   "metadata": {},
   "outputs": [],
   "source": [
    "from sklearn.preprocessing import OneHotEncoder, OrdinalEncoder, MinMaxScaler\n",
    "from sklearn.compose import ColumnTransformer\n",
    "\n",
    "preprocessor = ColumnTransformer(\n",
    " transformers=[\n",
    " ('ordinal', OrdinalEncoder(categories=ordinal_values), ordinal_columns),\n",
    " ('onehot', OneHotEncoder(handle_unknown='ignore'), onehot_columns),\n",
    " ('continuous', MinMaxScaler(), continuous_columns),\n",
    " ('encoded', 'passthrough', encoded_columns)\n",
    " ]\n",
    ")"
   ]
  },
  {
   "cell_type": "markdown",
   "metadata": {},
   "source": [
    "### Defining a sampling function for computationally heavy models"
   ]
  },
  {
   "cell_type": "code",
   "execution_count": 122,
   "metadata": {},
   "outputs": [],
   "source": [
    "from sklearn.model_selection import train_test_split\n",
    "\n",
    "def stratified_subset(df, column, subset_fraction, random_state=None):\n",
    "    \"\"\"\n",
    "    Generate a random stratified subset of the data based on fiscal year.\n",
    "    This will be needed for later models that are computationally intensive\n",
    "\n",
    "    Parameters:\n",
    "    - df (pd.DataFrame): The input dataframe.\n",
    "    - fiscal_year_column (str): The column name used for stratification (e.g., 'ApprovalFiscalYear').\n",
    "    - subset_fraction (float): Fraction of data to include in the subset (between 0 and 1).\n",
    "    - random_state (int, optional): Random seed for reproducibility.\n",
    "\n",
    "    Returns:\n",
    "    - pd.DataFrame: A stratified subset of the original dataframe.\n",
    "    \"\"\"\n",
    "    subset = df\n",
    "    if subset_fraction != 1:\n",
    "        _, subset = train_test_split(\n",
    "            df,\n",
    "            test_size=subset_fraction,\n",
    "            stratify=df[column],\n",
    "            random_state=random_state\n",
    "        )\n",
    "\n",
    "    return subset.sort_values('FinalStatusDate')"
   ]
  },
  {
   "cell_type": "markdown",
   "metadata": {},
   "source": [
    "## Defining a general time series training function"
   ]
  },
  {
   "cell_type": "code",
   "execution_count": 123,
   "metadata": {},
   "outputs": [],
   "source": [
    "import pandas as pd\n",
    "from sklearn.linear_model import LogisticRegression\n",
    "from sklearn.model_selection import TimeSeriesSplit, GridSearchCV\n",
    "from sklearn.pipeline import Pipeline\n",
    "from sklearn.metrics import fbeta_score, accuracy_score, roc_auc_score\n",
    "\n",
    "def MLpipe_TimeSeries(df, preprocessor, ML_algo, param_grid, sample_size, scoring='f1', verbose=1, random_state=27):\n",
    "    '''\n",
    "    This function splits the data into training and validation sets (90/10) and applies TimeSeriesSplit \n",
    "    with 5 splits to the training data. It then uses GridSearchCV with the auc score as the scoring metric.\n",
    "\n",
    "    The function:\n",
    "\n",
    "    1. Splits the data into training and validation sets (90/10)\n",
    "    2. Applies TimeSeriesSplit with 5 splits to the training data\n",
    "    3. Fits a Logistic Regression model using GridSearchCV\n",
    "    4. Calculates the F-beta scores of the best models on the validation set\n",
    "    5. Returns the validation F-beta score and the best model\n",
    "\n",
    "    Parameters:\n",
    "    df : pandas DataFrame\n",
    "        The dataset containing the features and target.\n",
    "    target_column : str\n",
    "        The name of the target column.\n",
    "    preprocessor : sklearn.compose.ColumnTransformer\n",
    "        The preprocessing pipeline for the features.\n",
    "    param_grid : dict\n",
    "        The hyperparameters to be tuned by GridSearchCV.\n",
    "\n",
    "    Returns:\n",
    "    validation_fbeta : float\n",
    "        The F-beta score on the validation set.\n",
    "    best_model : sklearn.base.BaseEstimator\n",
    "        The best model found by GridSearchCV.\n",
    "    '''\n",
    "    df_sorted = df.sort_values('FinalStatusDate')\n",
    "\n",
    "    # Define the pipeline\n",
    "    pipeline = Pipeline(steps=[\n",
    "        ('preprocessor', preprocessor),\n",
    "        ('classifier', ML_algo)\n",
    "    ])\n",
    "\n",
    "    accuracy_scores = []\n",
    "    baseline_accuracy_scores = []\n",
    "    f1_scores = []\n",
    "    baseline_f1_scores = []\n",
    "    auc_scores = []\n",
    "    baseline_auc_scores = []\n",
    "    best_models = []\n",
    "    best_params = []\n",
    "\n",
    "    for x in range(0, 5):\n",
    "        df_subset = stratified_subset(df_sorted, 'FinalStatusYear', sample_size, x+random_state)\n",
    "\n",
    "        X = df_subset.drop(columns=['LoanStatus', 'FinalStatusDate', 'FinalStatusYear'])\n",
    "        y = df_subset['LoanStatus']\n",
    "\n",
    "        # Split into train/validation sets (90/10)\n",
    "        total_len = len(df_subset)\n",
    "        train_size = int(total_len * 0.90)\n",
    "        X_train = X.iloc[:train_size]\n",
    "        y_train = y.iloc[:train_size]\n",
    "        X_val = X.iloc[train_size:]\n",
    "        y_val = y.iloc[train_size:]\n",
    "\n",
    "        # Do time series splitting\n",
    "        tscv = TimeSeriesSplit(n_splits=5)\n",
    "        grid_search = GridSearchCV(pipeline, param_grid, cv=tscv, scoring=scoring, n_jobs=-1, verbose=0)\n",
    "        grid_search.fit(X_train, y_train)\n",
    "\n",
    "        # Record the relevant information\n",
    "        best_model = grid_search.best_estimator_\n",
    "        best_param = grid_search.best_params_\n",
    "        y_pred = best_model.predict(X_val)\n",
    "        y_pred_probs = []\n",
    "        try:\n",
    "            y_pred_probs = best_model.predict_proba(X_val)\n",
    "        except:\n",
    "            y_pred_probs = np.ones((len(y_pred), 2))\n",
    "        y_pred_baseline = np.ones(y_pred.shape)\n",
    "        accuracy = accuracy_score(y_val, y_pred)\n",
    "        accuracy_baseline = accuracy_score(y_val, y_pred_baseline)\n",
    "        accuracy_scores.append(accuracy)\n",
    "        baseline_accuracy_scores.append(accuracy_baseline)\n",
    "        fbeta = fbeta_score(y_val, y_pred, beta=1)\n",
    "        fbeta_baseline = fbeta_score(y_val, y_pred_baseline, beta=1)\n",
    "        baseline_f1_scores.append(fbeta_baseline)\n",
    "        auc_score = roc_auc_score(y_val, y_pred_probs[:, 1])\n",
    "        auc_scores.append(auc_score)\n",
    "        baseline_auc_score = roc_auc_score(y_val, y_pred_baseline)\n",
    "        baseline_auc_scores.append(baseline_auc_score)\n",
    "        f1_scores.append(fbeta)\n",
    "        best_models.append(best_model)\n",
    "        best_params.append(best_param)\n",
    "        if sample_size == 1:\n",
    "            break\n",
    "        if verbose == 1:\n",
    "            print(\"Trained Model \" + str(x) +\"!\\n\")\n",
    "\n",
    "    \n",
    "    results = {\"accuracy_scores\": accuracy_scores,\n",
    "               \"f1_scores\": f1_scores,\n",
    "               \"auc_scores\": auc_scores,\n",
    "               \"baseline_accuracy_scores\": baseline_accuracy_scores,\n",
    "               \"baseline_f1_scores\": baseline_f1_scores,\n",
    "               \"baseline_auc_scores\": baseline_auc_scores,\n",
    "               \"y_val\": y_val,\n",
    "               \"X_val\": X_val,\n",
    "               \"y_pred\": y_pred,\n",
    "               \"y_pred_probs\": y_pred_probs,\n",
    "               \"models\": best_models,\n",
    "               \"best_params\": best_params}\n",
    "\n",
    "    return results\n"
   ]
  },
  {
   "cell_type": "markdown",
   "metadata": {},
   "source": [
    "### Training a TimeSeries Split Random Forest Classifier with Parameter Grid"
   ]
  },
  {
   "cell_type": "code",
   "execution_count": 124,
   "metadata": {},
   "outputs": [
    {
     "name": "stdout",
     "output_type": "stream",
     "text": [
      "Trained Model 0!\n",
      "\n",
      "Trained Model 1!\n",
      "\n",
      "Trained Model 2!\n",
      "\n",
      "Trained Model 3!\n",
      "\n",
      "Trained Model 4!\n",
      "\n"
     ]
    }
   ],
   "source": [
    "from sklearn.ensemble import RandomForestClassifier\n",
    "\n",
    "param_grid_rf = {\n",
    "    'classifier__max_depth': [22, 40, 50, 65], # [10, 50, 100, 150, 250, 500, 1000, 1500]\n",
    "    'classifier__max_features': [0.65, 0.7, 0.8], # ['auto', 'sqrt', 'log2', 0.1, 0.3, 0.6, 1]\n",
    "}\n",
    "\n",
    "ML_algo_rf = RandomForestClassifier(verbose=0, random_state=27)\n",
    "sample_size_rf = [0.1]\n",
    "time_series_rf_results = [MLpipe_TimeSeries(df, preprocessor, ML_algo_rf, param_grid_rf, sample, random_state=0) for sample in sample_size_rf]"
   ]
  },
  {
   "cell_type": "code",
   "execution_count": 125,
   "metadata": {},
   "outputs": [
    {
     "name": "stdout",
     "output_type": "stream",
     "text": [
      "[{'classifier__max_depth': 22, 'classifier__max_features': 0.8}, {'classifier__max_depth': 22, 'classifier__max_features': 0.8}, {'classifier__max_depth': 40, 'classifier__max_features': 0.8}, {'classifier__max_depth': 40, 'classifier__max_features': 0.8}, {'classifier__max_depth': 40, 'classifier__max_features': 0.7}]\n",
      "0.9318361445783132\n",
      "0.9263999999999999\n",
      "0.001929252395673746\n",
      "0.9629696071255351\n",
      "0.9617929782622439\n",
      "0.0010401315034229584\n"
     ]
    }
   ],
   "source": [
    "print(time_series_rf_results[0]['best_params'])\n",
    "print(np.mean(time_series_rf_results[0]['accuracy_scores']))\n",
    "print(np.mean(time_series_rf_results[0]['baseline_accuracy_scores']))\n",
    "print(np.std(time_series_rf_results[0]['baseline_accuracy_scores']))\n",
    "print(np.mean(time_series_rf_results[0]['f1_scores']))\n",
    "print(np.mean(time_series_rf_results[0]['baseline_f1_scores']))\n",
    "print(np.std(time_series_rf_results[0]['baseline_f1_scores']))"
   ]
  },
  {
   "cell_type": "code",
   "execution_count": 126,
   "metadata": {},
   "outputs": [],
   "source": [
    "file = open('../results/rf_subsample.save', 'wb')\n",
    "pickle.dump(time_series_rf_results[0],file)\n",
    "file.close()"
   ]
  },
  {
   "cell_type": "code",
   "execution_count": 127,
   "metadata": {},
   "outputs": [
    {
     "name": "stderr",
     "output_type": "stream",
     "text": [
      "/opt/anaconda3/envs/data/lib/python3.12/site-packages/sklearn/linear_model/_sag.py:349: ConvergenceWarning: The max_iter was reached which means the coef_ did not converge\n",
      "  warnings.warn(\n",
      "/opt/anaconda3/envs/data/lib/python3.12/site-packages/sklearn/linear_model/_sag.py:349: ConvergenceWarning: The max_iter was reached which means the coef_ did not converge\n",
      "  warnings.warn(\n",
      "/opt/anaconda3/envs/data/lib/python3.12/site-packages/sklearn/linear_model/_sag.py:349: ConvergenceWarning: The max_iter was reached which means the coef_ did not converge\n",
      "  warnings.warn(\n",
      "/opt/anaconda3/envs/data/lib/python3.12/site-packages/sklearn/linear_model/_sag.py:349: ConvergenceWarning: The max_iter was reached which means the coef_ did not converge\n",
      "  warnings.warn(\n",
      "/opt/anaconda3/envs/data/lib/python3.12/site-packages/sklearn/linear_model/_sag.py:349: ConvergenceWarning: The max_iter was reached which means the coef_ did not converge\n",
      "  warnings.warn(\n",
      "/opt/anaconda3/envs/data/lib/python3.12/site-packages/sklearn/linear_model/_sag.py:349: ConvergenceWarning: The max_iter was reached which means the coef_ did not converge\n",
      "  warnings.warn(\n",
      "/opt/anaconda3/envs/data/lib/python3.12/site-packages/sklearn/linear_model/_sag.py:349: ConvergenceWarning: The max_iter was reached which means the coef_ did not converge\n",
      "  warnings.warn(\n",
      "/opt/anaconda3/envs/data/lib/python3.12/site-packages/sklearn/linear_model/_sag.py:349: ConvergenceWarning: The max_iter was reached which means the coef_ did not converge\n",
      "  warnings.warn(\n",
      "/opt/anaconda3/envs/data/lib/python3.12/site-packages/sklearn/linear_model/_sag.py:349: ConvergenceWarning: The max_iter was reached which means the coef_ did not converge\n",
      "  warnings.warn(\n",
      "/opt/anaconda3/envs/data/lib/python3.12/site-packages/sklearn/linear_model/_sag.py:349: ConvergenceWarning: The max_iter was reached which means the coef_ did not converge\n",
      "  warnings.warn(\n",
      "/opt/anaconda3/envs/data/lib/python3.12/site-packages/sklearn/linear_model/_sag.py:349: ConvergenceWarning: The max_iter was reached which means the coef_ did not converge\n",
      "  warnings.warn(\n",
      "/opt/anaconda3/envs/data/lib/python3.12/site-packages/sklearn/linear_model/_sag.py:349: ConvergenceWarning: The max_iter was reached which means the coef_ did not converge\n",
      "  warnings.warn(\n",
      "/opt/anaconda3/envs/data/lib/python3.12/site-packages/sklearn/linear_model/_sag.py:349: ConvergenceWarning: The max_iter was reached which means the coef_ did not converge\n",
      "  warnings.warn(\n",
      "/opt/anaconda3/envs/data/lib/python3.12/site-packages/sklearn/linear_model/_sag.py:349: ConvergenceWarning: The max_iter was reached which means the coef_ did not converge\n",
      "  warnings.warn(\n",
      "/opt/anaconda3/envs/data/lib/python3.12/site-packages/sklearn/linear_model/_sag.py:349: ConvergenceWarning: The max_iter was reached which means the coef_ did not converge\n",
      "  warnings.warn(\n",
      "/opt/anaconda3/envs/data/lib/python3.12/site-packages/sklearn/linear_model/_sag.py:349: ConvergenceWarning: The max_iter was reached which means the coef_ did not converge\n",
      "  warnings.warn(\n",
      "/opt/anaconda3/envs/data/lib/python3.12/site-packages/sklearn/linear_model/_sag.py:349: ConvergenceWarning: The max_iter was reached which means the coef_ did not converge\n",
      "  warnings.warn(\n"
     ]
    },
    {
     "name": "stdout",
     "output_type": "stream",
     "text": [
      "Trained Model 0!\n",
      "\n"
     ]
    },
    {
     "name": "stderr",
     "output_type": "stream",
     "text": [
      "/opt/anaconda3/envs/data/lib/python3.12/site-packages/sklearn/linear_model/_sag.py:349: ConvergenceWarning: The max_iter was reached which means the coef_ did not converge\n",
      "  warnings.warn(\n",
      "/opt/anaconda3/envs/data/lib/python3.12/site-packages/sklearn/linear_model/_sag.py:349: ConvergenceWarning: The max_iter was reached which means the coef_ did not converge\n",
      "  warnings.warn(\n",
      "/opt/anaconda3/envs/data/lib/python3.12/site-packages/sklearn/linear_model/_sag.py:349: ConvergenceWarning: The max_iter was reached which means the coef_ did not converge\n",
      "  warnings.warn(\n",
      "/opt/anaconda3/envs/data/lib/python3.12/site-packages/sklearn/linear_model/_sag.py:349: ConvergenceWarning: The max_iter was reached which means the coef_ did not converge\n",
      "  warnings.warn(\n",
      "/opt/anaconda3/envs/data/lib/python3.12/site-packages/sklearn/linear_model/_sag.py:349: ConvergenceWarning: The max_iter was reached which means the coef_ did not converge\n",
      "  warnings.warn(\n",
      "/opt/anaconda3/envs/data/lib/python3.12/site-packages/sklearn/linear_model/_sag.py:349: ConvergenceWarning: The max_iter was reached which means the coef_ did not converge\n",
      "  warnings.warn(\n",
      "/opt/anaconda3/envs/data/lib/python3.12/site-packages/sklearn/linear_model/_sag.py:349: ConvergenceWarning: The max_iter was reached which means the coef_ did not converge\n",
      "  warnings.warn(\n",
      "/opt/anaconda3/envs/data/lib/python3.12/site-packages/sklearn/linear_model/_sag.py:349: ConvergenceWarning: The max_iter was reached which means the coef_ did not converge\n",
      "  warnings.warn(\n",
      "/opt/anaconda3/envs/data/lib/python3.12/site-packages/sklearn/linear_model/_sag.py:349: ConvergenceWarning: The max_iter was reached which means the coef_ did not converge\n",
      "  warnings.warn(\n",
      "/opt/anaconda3/envs/data/lib/python3.12/site-packages/sklearn/linear_model/_sag.py:349: ConvergenceWarning: The max_iter was reached which means the coef_ did not converge\n",
      "  warnings.warn(\n",
      "/opt/anaconda3/envs/data/lib/python3.12/site-packages/sklearn/linear_model/_sag.py:349: ConvergenceWarning: The max_iter was reached which means the coef_ did not converge\n",
      "  warnings.warn(\n",
      "/opt/anaconda3/envs/data/lib/python3.12/site-packages/sklearn/linear_model/_sag.py:349: ConvergenceWarning: The max_iter was reached which means the coef_ did not converge\n",
      "  warnings.warn(\n",
      "/opt/anaconda3/envs/data/lib/python3.12/site-packages/sklearn/linear_model/_sag.py:349: ConvergenceWarning: The max_iter was reached which means the coef_ did not converge\n",
      "  warnings.warn(\n",
      "/opt/anaconda3/envs/data/lib/python3.12/site-packages/sklearn/linear_model/_sag.py:349: ConvergenceWarning: The max_iter was reached which means the coef_ did not converge\n",
      "  warnings.warn(\n",
      "/opt/anaconda3/envs/data/lib/python3.12/site-packages/sklearn/linear_model/_sag.py:349: ConvergenceWarning: The max_iter was reached which means the coef_ did not converge\n",
      "  warnings.warn(\n",
      "/opt/anaconda3/envs/data/lib/python3.12/site-packages/sklearn/linear_model/_sag.py:349: ConvergenceWarning: The max_iter was reached which means the coef_ did not converge\n",
      "  warnings.warn(\n",
      "/opt/anaconda3/envs/data/lib/python3.12/site-packages/sklearn/linear_model/_sag.py:349: ConvergenceWarning: The max_iter was reached which means the coef_ did not converge\n",
      "  warnings.warn(\n",
      "/opt/anaconda3/envs/data/lib/python3.12/site-packages/sklearn/linear_model/_sag.py:349: ConvergenceWarning: The max_iter was reached which means the coef_ did not converge\n",
      "  warnings.warn(\n",
      "/opt/anaconda3/envs/data/lib/python3.12/site-packages/sklearn/linear_model/_sag.py:349: ConvergenceWarning: The max_iter was reached which means the coef_ did not converge\n",
      "  warnings.warn(\n",
      "/opt/anaconda3/envs/data/lib/python3.12/site-packages/sklearn/linear_model/_sag.py:349: ConvergenceWarning: The max_iter was reached which means the coef_ did not converge\n",
      "  warnings.warn(\n"
     ]
    },
    {
     "name": "stdout",
     "output_type": "stream",
     "text": [
      "Trained Model 1!\n",
      "\n"
     ]
    },
    {
     "name": "stderr",
     "output_type": "stream",
     "text": [
      "/opt/anaconda3/envs/data/lib/python3.12/site-packages/sklearn/linear_model/_sag.py:349: ConvergenceWarning: The max_iter was reached which means the coef_ did not converge\n",
      "  warnings.warn(\n",
      "/opt/anaconda3/envs/data/lib/python3.12/site-packages/sklearn/linear_model/_sag.py:349: ConvergenceWarning: The max_iter was reached which means the coef_ did not converge\n",
      "  warnings.warn(\n",
      "/opt/anaconda3/envs/data/lib/python3.12/site-packages/sklearn/linear_model/_sag.py:349: ConvergenceWarning: The max_iter was reached which means the coef_ did not converge\n",
      "  warnings.warn(\n",
      "/opt/anaconda3/envs/data/lib/python3.12/site-packages/sklearn/linear_model/_sag.py:349: ConvergenceWarning: The max_iter was reached which means the coef_ did not converge\n",
      "  warnings.warn(\n",
      "/opt/anaconda3/envs/data/lib/python3.12/site-packages/sklearn/linear_model/_sag.py:349: ConvergenceWarning: The max_iter was reached which means the coef_ did not converge\n",
      "  warnings.warn(\n",
      "/opt/anaconda3/envs/data/lib/python3.12/site-packages/sklearn/linear_model/_sag.py:349: ConvergenceWarning: The max_iter was reached which means the coef_ did not converge\n",
      "  warnings.warn(\n",
      "/opt/anaconda3/envs/data/lib/python3.12/site-packages/sklearn/linear_model/_sag.py:349: ConvergenceWarning: The max_iter was reached which means the coef_ did not converge\n",
      "  warnings.warn(\n",
      "/opt/anaconda3/envs/data/lib/python3.12/site-packages/sklearn/linear_model/_sag.py:349: ConvergenceWarning: The max_iter was reached which means the coef_ did not converge\n",
      "  warnings.warn(\n",
      "/opt/anaconda3/envs/data/lib/python3.12/site-packages/sklearn/linear_model/_sag.py:349: ConvergenceWarning: The max_iter was reached which means the coef_ did not converge\n",
      "  warnings.warn(\n",
      "/opt/anaconda3/envs/data/lib/python3.12/site-packages/sklearn/linear_model/_sag.py:349: ConvergenceWarning: The max_iter was reached which means the coef_ did not converge\n",
      "  warnings.warn(\n",
      "/opt/anaconda3/envs/data/lib/python3.12/site-packages/sklearn/linear_model/_sag.py:349: ConvergenceWarning: The max_iter was reached which means the coef_ did not converge\n",
      "  warnings.warn(\n",
      "/opt/anaconda3/envs/data/lib/python3.12/site-packages/sklearn/linear_model/_sag.py:349: ConvergenceWarning: The max_iter was reached which means the coef_ did not converge\n",
      "  warnings.warn(\n",
      "/opt/anaconda3/envs/data/lib/python3.12/site-packages/sklearn/linear_model/_sag.py:349: ConvergenceWarning: The max_iter was reached which means the coef_ did not converge\n",
      "  warnings.warn(\n"
     ]
    },
    {
     "name": "stdout",
     "output_type": "stream",
     "text": [
      "Trained Model 2!\n",
      "\n"
     ]
    },
    {
     "name": "stderr",
     "output_type": "stream",
     "text": [
      "/opt/anaconda3/envs/data/lib/python3.12/site-packages/sklearn/linear_model/_sag.py:349: ConvergenceWarning: The max_iter was reached which means the coef_ did not converge\n",
      "  warnings.warn(\n",
      "/opt/anaconda3/envs/data/lib/python3.12/site-packages/sklearn/linear_model/_sag.py:349: ConvergenceWarning: The max_iter was reached which means the coef_ did not converge\n",
      "  warnings.warn(\n",
      "/opt/anaconda3/envs/data/lib/python3.12/site-packages/sklearn/linear_model/_sag.py:349: ConvergenceWarning: The max_iter was reached which means the coef_ did not converge\n",
      "  warnings.warn(\n",
      "/opt/anaconda3/envs/data/lib/python3.12/site-packages/sklearn/linear_model/_sag.py:349: ConvergenceWarning: The max_iter was reached which means the coef_ did not converge\n",
      "  warnings.warn(\n",
      "/opt/anaconda3/envs/data/lib/python3.12/site-packages/sklearn/linear_model/_sag.py:349: ConvergenceWarning: The max_iter was reached which means the coef_ did not converge\n",
      "  warnings.warn(\n",
      "/opt/anaconda3/envs/data/lib/python3.12/site-packages/sklearn/linear_model/_sag.py:349: ConvergenceWarning: The max_iter was reached which means the coef_ did not converge\n",
      "  warnings.warn(\n",
      "/opt/anaconda3/envs/data/lib/python3.12/site-packages/sklearn/linear_model/_sag.py:349: ConvergenceWarning: The max_iter was reached which means the coef_ did not converge\n",
      "  warnings.warn(\n",
      "/opt/anaconda3/envs/data/lib/python3.12/site-packages/sklearn/linear_model/_sag.py:349: ConvergenceWarning: The max_iter was reached which means the coef_ did not converge\n",
      "  warnings.warn(\n",
      "/opt/anaconda3/envs/data/lib/python3.12/site-packages/sklearn/linear_model/_sag.py:349: ConvergenceWarning: The max_iter was reached which means the coef_ did not converge\n",
      "  warnings.warn(\n",
      "/opt/anaconda3/envs/data/lib/python3.12/site-packages/sklearn/linear_model/_sag.py:349: ConvergenceWarning: The max_iter was reached which means the coef_ did not converge\n",
      "  warnings.warn(\n",
      "/opt/anaconda3/envs/data/lib/python3.12/site-packages/sklearn/linear_model/_sag.py:349: ConvergenceWarning: The max_iter was reached which means the coef_ did not converge\n",
      "  warnings.warn(\n",
      "/opt/anaconda3/envs/data/lib/python3.12/site-packages/sklearn/linear_model/_sag.py:349: ConvergenceWarning: The max_iter was reached which means the coef_ did not converge\n",
      "  warnings.warn(\n",
      "/opt/anaconda3/envs/data/lib/python3.12/site-packages/sklearn/linear_model/_sag.py:349: ConvergenceWarning: The max_iter was reached which means the coef_ did not converge\n",
      "  warnings.warn(\n",
      "/opt/anaconda3/envs/data/lib/python3.12/site-packages/sklearn/linear_model/_sag.py:349: ConvergenceWarning: The max_iter was reached which means the coef_ did not converge\n",
      "  warnings.warn(\n",
      "/opt/anaconda3/envs/data/lib/python3.12/site-packages/sklearn/linear_model/_sag.py:349: ConvergenceWarning: The max_iter was reached which means the coef_ did not converge\n",
      "  warnings.warn(\n",
      "/opt/anaconda3/envs/data/lib/python3.12/site-packages/sklearn/linear_model/_sag.py:349: ConvergenceWarning: The max_iter was reached which means the coef_ did not converge\n",
      "  warnings.warn(\n",
      "/opt/anaconda3/envs/data/lib/python3.12/site-packages/sklearn/linear_model/_sag.py:349: ConvergenceWarning: The max_iter was reached which means the coef_ did not converge\n",
      "  warnings.warn(\n",
      "/opt/anaconda3/envs/data/lib/python3.12/site-packages/sklearn/linear_model/_sag.py:349: ConvergenceWarning: The max_iter was reached which means the coef_ did not converge\n",
      "  warnings.warn(\n",
      "/opt/anaconda3/envs/data/lib/python3.12/site-packages/sklearn/linear_model/_sag.py:349: ConvergenceWarning: The max_iter was reached which means the coef_ did not converge\n",
      "  warnings.warn(\n",
      "/opt/anaconda3/envs/data/lib/python3.12/site-packages/sklearn/linear_model/_sag.py:349: ConvergenceWarning: The max_iter was reached which means the coef_ did not converge\n",
      "  warnings.warn(\n"
     ]
    },
    {
     "name": "stdout",
     "output_type": "stream",
     "text": [
      "Trained Model 3!\n",
      "\n"
     ]
    },
    {
     "name": "stderr",
     "output_type": "stream",
     "text": [
      "/opt/anaconda3/envs/data/lib/python3.12/site-packages/sklearn/linear_model/_sag.py:349: ConvergenceWarning: The max_iter was reached which means the coef_ did not converge\n",
      "  warnings.warn(\n",
      "/opt/anaconda3/envs/data/lib/python3.12/site-packages/sklearn/linear_model/_sag.py:349: ConvergenceWarning: The max_iter was reached which means the coef_ did not converge\n",
      "  warnings.warn(\n",
      "/opt/anaconda3/envs/data/lib/python3.12/site-packages/sklearn/linear_model/_sag.py:349: ConvergenceWarning: The max_iter was reached which means the coef_ did not converge\n",
      "  warnings.warn(\n",
      "/opt/anaconda3/envs/data/lib/python3.12/site-packages/sklearn/linear_model/_sag.py:349: ConvergenceWarning: The max_iter was reached which means the coef_ did not converge\n",
      "  warnings.warn(\n",
      "/opt/anaconda3/envs/data/lib/python3.12/site-packages/sklearn/linear_model/_sag.py:349: ConvergenceWarning: The max_iter was reached which means the coef_ did not converge\n",
      "  warnings.warn(\n",
      "/opt/anaconda3/envs/data/lib/python3.12/site-packages/sklearn/linear_model/_sag.py:349: ConvergenceWarning: The max_iter was reached which means the coef_ did not converge\n",
      "  warnings.warn(\n",
      "/opt/anaconda3/envs/data/lib/python3.12/site-packages/sklearn/linear_model/_sag.py:349: ConvergenceWarning: The max_iter was reached which means the coef_ did not converge\n",
      "  warnings.warn(\n",
      "/opt/anaconda3/envs/data/lib/python3.12/site-packages/sklearn/linear_model/_sag.py:349: ConvergenceWarning: The max_iter was reached which means the coef_ did not converge\n",
      "  warnings.warn(\n",
      "/opt/anaconda3/envs/data/lib/python3.12/site-packages/sklearn/linear_model/_sag.py:349: ConvergenceWarning: The max_iter was reached which means the coef_ did not converge\n",
      "  warnings.warn(\n",
      "/opt/anaconda3/envs/data/lib/python3.12/site-packages/sklearn/linear_model/_sag.py:349: ConvergenceWarning: The max_iter was reached which means the coef_ did not converge\n",
      "  warnings.warn(\n",
      "/opt/anaconda3/envs/data/lib/python3.12/site-packages/sklearn/linear_model/_sag.py:349: ConvergenceWarning: The max_iter was reached which means the coef_ did not converge\n",
      "  warnings.warn(\n",
      "/opt/anaconda3/envs/data/lib/python3.12/site-packages/sklearn/linear_model/_sag.py:349: ConvergenceWarning: The max_iter was reached which means the coef_ did not converge\n",
      "  warnings.warn(\n"
     ]
    },
    {
     "name": "stdout",
     "output_type": "stream",
     "text": [
      "Trained Model 4!\n",
      "\n"
     ]
    },
    {
     "name": "stderr",
     "output_type": "stream",
     "text": [
      "/opt/anaconda3/envs/data/lib/python3.12/site-packages/sklearn/linear_model/_sag.py:349: ConvergenceWarning: The max_iter was reached which means the coef_ did not converge\n",
      "  warnings.warn(\n"
     ]
    }
   ],
   "source": [
    "from sklearn.linear_model import LogisticRegression\n",
    "\n",
    "param_grid_logistic = {\n",
    "    'classifier__penalty': ['elasticnet'],\n",
    "    'classifier__C': [0.5, 0.1, 1, 10],\n",
    "    'classifier__solver': ['saga'],\n",
    "    'classifier__l1_ratio': [0, 0.5, 1]\n",
    "}\n",
    "\n",
    "ML_algo_logistic = LogisticRegression(max_iter=1000, random_state=27, verbose=0, n_jobs=-1)\n",
    "sample_size_logistic = [0.1]\n",
    "time_series_logistic_results = [MLpipe_TimeSeries(df, preprocessor, ML_algo_logistic, param_grid_logistic, sample, random_state=42) for sample in sample_size_logistic]"
   ]
  },
  {
   "cell_type": "code",
   "execution_count": 128,
   "metadata": {},
   "outputs": [
    {
     "name": "stdout",
     "output_type": "stream",
     "text": [
      "[{'classifier__C': 10, 'classifier__l1_ratio': 0.5, 'classifier__penalty': 'elasticnet', 'classifier__solver': 'saga'}, {'classifier__C': 1, 'classifier__l1_ratio': 1, 'classifier__penalty': 'elasticnet', 'classifier__solver': 'saga'}, {'classifier__C': 10, 'classifier__l1_ratio': 1, 'classifier__penalty': 'elasticnet', 'classifier__solver': 'saga'}, {'classifier__C': 1, 'classifier__l1_ratio': 1, 'classifier__penalty': 'elasticnet', 'classifier__solver': 'saga'}, {'classifier__C': 1, 'classifier__l1_ratio': 1, 'classifier__penalty': 'elasticnet', 'classifier__solver': 'saga'}]\n",
      "0.9199036144578313\n",
      "0.9233349397590359\n",
      "0.0029954666478497153\n",
      "0.9575999254621381\n",
      "0.9601369966378739\n",
      "0.0016180887494504103\n"
     ]
    }
   ],
   "source": [
    "print(time_series_logistic_results[0]['best_params'])\n",
    "print(np.mean(time_series_logistic_results[0]['accuracy_scores']))\n",
    "print(np.mean(time_series_logistic_results[0]['baseline_accuracy_scores']))\n",
    "print(np.std(time_series_logistic_results[0]['baseline_accuracy_scores']))\n",
    "print(np.mean(time_series_logistic_results[0]['f1_scores']))\n",
    "print(np.mean(time_series_logistic_results[0]['baseline_f1_scores']))\n",
    "print(np.std(time_series_logistic_results[0]['baseline_f1_scores']))"
   ]
  },
  {
   "cell_type": "code",
   "execution_count": 129,
   "metadata": {},
   "outputs": [],
   "source": [
    "file = open('../results/logistic_subsample.save', 'wb')\n",
    "pickle.dump(time_series_logistic_results[0],file)\n",
    "file.close()"
   ]
  },
  {
   "cell_type": "code",
   "execution_count": 131,
   "metadata": {},
   "outputs": [
    {
     "name": "stdout",
     "output_type": "stream",
     "text": [
      "Trained Model 0!\n",
      "\n",
      "Trained Model 1!\n",
      "\n",
      "Trained Model 2!\n",
      "\n",
      "Trained Model 3!\n",
      "\n",
      "Trained Model 4!\n",
      "\n"
     ]
    }
   ],
   "source": [
    "from sklearn.svm import SVC\n",
    "\n",
    "param_grid_svc = {\n",
    "    'classifier__C': [1, 10, 100],\n",
    "    'classifier__gamma': [0.1, 0.01, 0.005],\n",
    "    'classifier__kernel': ['poly']\n",
    "}\n",
    "\n",
    "ML_algo_svm = SVC(verbose=0, random_state=27)\n",
    "sample_size_svm = [0.05]\n",
    "time_series_svm_results = [MLpipe_TimeSeries(df, preprocessor, ML_algo_svm, param_grid_svc, sample, random_state=67) for sample in sample_size_svm]"
   ]
  },
  {
   "cell_type": "code",
   "execution_count": 132,
   "metadata": {},
   "outputs": [
    {
     "name": "stdout",
     "output_type": "stream",
     "text": [
      "[{'classifier__C': 100, 'classifier__gamma': 0.01, 'classifier__kernel': 'poly'}, {'classifier__C': 100, 'classifier__gamma': 0.01, 'classifier__kernel': 'poly'}, {'classifier__C': 100, 'classifier__gamma': 0.01, 'classifier__kernel': 'poly'}, {'classifier__C': 100, 'classifier__gamma': 0.01, 'classifier__kernel': 'poly'}, {'classifier__C': 100, 'classifier__gamma': 0.01, 'classifier__kernel': 'poly'}]\n",
      "0.9221665381649963\n",
      "0.9237856592135698\n",
      "0.00524286815728604\n",
      "0.9583918685775015\n",
      "0.9603754389747247\n",
      "0.002826983390852382\n"
     ]
    }
   ],
   "source": [
    "print(time_series_svm_results[0]['best_params'])\n",
    "print(np.mean(time_series_svm_results[0]['accuracy_scores']))\n",
    "print(np.mean(time_series_svm_results[0]['baseline_accuracy_scores']))\n",
    "print(np.std(time_series_svm_results[0]['baseline_accuracy_scores']))\n",
    "print(np.mean(time_series_svm_results[0]['f1_scores']))\n",
    "print(np.mean(time_series_svm_results[0]['baseline_f1_scores']))\n",
    "print(np.std(time_series_svm_results[0]['baseline_f1_scores']))"
   ]
  },
  {
   "cell_type": "code",
   "execution_count": 133,
   "metadata": {},
   "outputs": [],
   "source": [
    "file = open('../results/svm_subsample.save', 'wb')\n",
    "pickle.dump(time_series_svm_results[0],file)\n",
    "file.close()"
   ]
  },
  {
   "cell_type": "code",
   "execution_count": 110,
   "metadata": {},
   "outputs": [
    {
     "name": "stdout",
     "output_type": "stream",
     "text": [
      "Trained Model 0!\n",
      "\n",
      "Trained Model 1!\n",
      "\n",
      "Trained Model 2!\n",
      "\n",
      "Trained Model 3!\n",
      "\n",
      "Trained Model 4!\n",
      "\n"
     ]
    }
   ],
   "source": [
    "from xgboost import XGBClassifier\n",
    "\n",
    "param_grid_xgboost = {\n",
    "    'classifier__max_depth': [20, 30, 50, 75],               # Maximum depth of a tree\n",
    "    'classifier__subsample': [0.6, 0.85, 1],              # Fraction of samples used for training\n",
    "}\n",
    "\n",
    "ML_algo_xgboost = XGBClassifier(random_state=27)\n",
    "sample_size_xgboost = [0.1]\n",
    "time_series_xgboost_results = [MLpipe_TimeSeries(df, preprocessor, ML_algo_xgboost, param_grid_xgboost, sample, random_state=94) for sample in sample_size_xgboost]"
   ]
  },
  {
   "cell_type": "code",
   "execution_count": 111,
   "metadata": {},
   "outputs": [
    {
     "name": "stdout",
     "output_type": "stream",
     "text": [
      "[{'classifier__max_depth': 30, 'classifier__subsample': 0.85}, {'classifier__max_depth': 20, 'classifier__subsample': 0.85}, {'classifier__max_depth': 30, 'classifier__subsample': 1}, {'classifier__max_depth': 75, 'classifier__subsample': 0.85}, {'classifier__max_depth': 30, 'classifier__subsample': 1}]\n",
      "0.9335518072289156\n",
      "0.9263999999999999\n",
      "0.9639561141617564\n",
      "0.9617929782622439\n"
     ]
    }
   ],
   "source": [
    "print(time_series_xgboost_results[0]['best_params'])\n",
    "print(np.mean(time_series_xgboost_results[0]['accuracy_scores']))\n",
    "print(np.mean(time_series_xgboost_results[0]['baseline_accuracy_scores']))\n",
    "print(np.mean(time_series_xgboost_results[0]['f1_scores']))\n",
    "print(np.mean(time_series_xgboost_results[0]['baseline_f1_scores']))"
   ]
  },
  {
   "cell_type": "code",
   "execution_count": 112,
   "metadata": {},
   "outputs": [],
   "source": [
    "file = open('../results/xgboost_subsample.save', 'wb')\n",
    "pickle.dump(time_series_xgboost_results[0],file)\n",
    "file.close()"
   ]
  },
  {
   "cell_type": "code",
   "execution_count": 134,
   "metadata": {},
   "outputs": [
    {
     "data": {
      "image/png": "[encoded data removed]",
      "text/plain": [
       "<Figure size 1000x600 with 1 Axes>"
      ]
     },
     "metadata": {},
     "output_type": "display_data"
    }
   ],
   "source": [
    "import matplotlib.pyplot as plt\n",
    "\n",
    "models = [\"Logistic Regression\", \"SVM\", \"XGBoost\", \"Random Forest\"]\n",
    "\n",
    "boxplot_data = [\n",
    "    time_series_logistic_results[0][\"f1_scores\"],\n",
    "    time_series_svm_results[0][\"f1_scores\"],\n",
    "    time_series_xgboost_results[0][\"f1_scores\"],\n",
    "    time_series_rf_results[0][\"f1_scores\"],\n",
    "]\n",
    "\n",
    "baseline_f1 = [\n",
    "    np.mean(time_series_logistic_results[0][\"baseline_f1_scores\"]),\n",
    "    np.mean(time_series_svm_results[0][\"baseline_f1_scores\"]),\n",
    "    np.mean(time_series_xgboost_results[0][\"baseline_f1_scores\"]),\n",
    "    np.mean(time_series_rf_results[0][\"baseline_f1_scores\"]),\n",
    "]\n",
    "\n",
    "plt.figure(figsize=(10, 6))\n",
    "plt.boxplot(\n",
    "    boxplot_data,\n",
    "    vert=True,\n",
    "    patch_artist=True,\n",
    "    tick_labels=models,\n",
    ")\n",
    "\n",
    "plt.title(\"F1 Scores for Time Series Models\", fontsize=16)\n",
    "plt.ylabel(\"F1 Score\", fontsize=14)\n",
    "plt.xlabel(\"Models\", fontsize=14)\n",
    "\n",
    "for i, baseline in enumerate(baseline_f1):\n",
    "    plt.axhline(y=baseline, color=f\"C{i}\", linestyle=\"--\", label=f\"Baseline {models[i]}\")\n",
    "\n",
    "plt.legend(loc=\"lower right\")\n",
    "\n",
    "plt.grid(axis=\"y\", linestyle=\"--\", alpha=0.7)\n",
    "\n",
    "plt.tight_layout()\n",
    "\n",
    "plt.savefig('../figures/Model_Results.png', dpi=300, bbox_inches='tight')\n",
    "\n",
    "plt.show()\n"
   ]
  }
 ],
 "metadata": {
  "kernelspec": {
   "display_name": "data",
   "language": "python",
   "name": "python3"
  },
  "language_info": {
   "codemirror_mode": {
    "name": "ipython",
    "version": 3
   },
   "file_extension": ".py",
   "mimetype": "text/x-python",
   "name": "python",
   "nbconvert_exporter": "python",
   "pygments_lexer": "ipython3",
   "version": "3.12.5"
  }
 },
 "nbformat": 4,
 "nbformat_minor": 4
}
